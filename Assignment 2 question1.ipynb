{
 "cells": [
  {
   "cell_type": "code",
   "execution_count": null,
   "id": "cdd80079-11c6-4104-ace7-b213068f3725",
   "metadata": {},
   "outputs": [],
   "source": [
    "#QUESTION 1 SOLUTION"
   ]
  },
  {
   "cell_type": "code",
   "execution_count": 7,
   "id": "203abb6f-46cb-43ad-b64e-60e8d1349f8a",
   "metadata": {},
   "outputs": [
    {
     "name": "stdin",
     "output_type": "stream",
     "text": [
      "Enter the marks  78\n"
     ]
    },
    {
     "name": "stdout",
     "output_type": "stream",
     "text": [
      "C\n"
     ]
    }
   ],
   "source": [
    "Marks = int(input(\"Enter the marks \"))\n",
    "if Marks>90:\n",
    "    print(\"A\")\n",
    "elif Marks>80 and Marks<=90:\n",
    "    print(\"B\")\n",
    "elif Marks>=60 and Marks<=80:\n",
    "    print(\"C\")\n",
    "else:\n",
    "    print(\"D\")"
   ]
  },
  {
   "cell_type": "code",
   "execution_count": 9,
   "id": "349ae9ee-bdac-42c0-9f88-c23c223f2cb7",
   "metadata": {},
   "outputs": [
    {
     "data": {
      "text/plain": [
       "78"
      ]
     },
     "execution_count": 9,
     "metadata": {},
     "output_type": "execute_result"
    }
   ],
   "source": [
    "Marks\n"
   ]
  },
  {
   "cell_type": "code",
   "execution_count": null,
   "id": "a82e2676-0978-43f4-9e25-ee02c82e6264",
   "metadata": {},
   "outputs": [],
   "source": [
    "# QUESTION 2 SOLUTION\n"
   ]
  },
  {
   "cell_type": "code",
   "execution_count": 11,
   "id": "f9978e3c-a51b-43da-bdf6-fee19e458615",
   "metadata": {},
   "outputs": [
    {
     "name": "stdin",
     "output_type": "stream",
     "text": [
      "Enter the price:  100000\n"
     ]
    },
    {
     "name": "stdout",
     "output_type": "stream",
     "text": [
      "tax payable 10000.0\n"
     ]
    }
   ],
   "source": [
    "Tax = 0 \n",
    "Price = int(input(\"Enter the price: \"))\n",
    "if Price>100000:\n",
    "    Tax = 15/100*Price\n",
    "    print(\"tax payable\" , Tax)\n",
    "elif Price>50000 and Price<=100000:\n",
    "    Tax = 10/100*Price\n",
    "    print(\"tax payable\" , Tax)\n",
    "else:\n",
    "    Tax = 5/100*Price\n",
    "    print(\"tax payable\" , Tax)"
   ]
  },
  {
   "cell_type": "code",
   "execution_count": null,
   "id": "d02824fb-9dc2-4aa2-b504-b48e01dd04c3",
   "metadata": {},
   "outputs": [],
   "source": [
    "# question 3 solution"
   ]
  },
  {
   "cell_type": "code",
   "execution_count": 32,
   "id": "27574712-3f7e-43a8-bf89-611f2739591e",
   "metadata": {},
   "outputs": [
    {
     "name": "stdin",
     "output_type": "stream",
     "text": [
      "Enter the city name:  Delhi\n"
     ]
    },
    {
     "name": "stdout",
     "output_type": "stream",
     "text": [
      "Red fort\n"
     ]
    }
   ],
   "source": [
    "City = input(\"Enter the city name: \")\n",
    "if City==\"Delhi\":\n",
    "    print(\"Red fort\")\n",
    "elif City==\"Agra\":\n",
    "    print(\"Taj MAHAL\")\n",
    "elif City==\"Jaipur\":\n",
    "    print(\"Jal mahal\")\n",
    "else:\n",
    "    print(\"no result found\")"
   ]
  },
  {
   "cell_type": "code",
   "execution_count": 1,
   "id": "9bad302e-bd95-47d3-8347-bd246c332d56",
   "metadata": {},
   "outputs": [],
   "source": [
    "# question 4 \n",
    "# check how many times a given number can be divided by 3 before it is less than or equal to 10\n"
   ]
  },
  {
   "cell_type": "code",
   "execution_count": 4,
   "id": "26036de5-483c-4360-ba5b-0811ed10a375",
   "metadata": {},
   "outputs": [
    {
     "name": "stdin",
     "output_type": "stream",
     "text": [
      "enter the value:  12\n"
     ]
    },
    {
     "name": "stdout",
     "output_type": "stream",
     "text": [
      "12  is divisible by  1  time by 3\n"
     ]
    }
   ],
   "source": [
    "x= int(input('enter the value: '))\n",
    "q=0\n",
    "a=x\n",
    "if a > 10 : \n",
    "    while a > 10 : \n",
    "        a=a/3\n",
    "        q=q+1\n",
    "    print(x,\" is divisible by \",q,\" time by 3\")\n",
    "else : \n",
    "    print(\"value should be greater than 10\")"
   ]
  },
  {
   "cell_type": "code",
   "execution_count": 2,
   "id": "d6eac1ca-671d-45ac-ae77-e5a1896dd04f",
   "metadata": {},
   "outputs": [
    {
     "name": "stdout",
     "output_type": "stream",
     "text": [
      "10\n",
      "9\n",
      "8\n",
      "7\n",
      "6\n",
      "5\n",
      "4\n",
      "3\n",
      "2\n",
      "1\n"
     ]
    }
   ],
   "source": [
    "#question 7 and 8\n",
    "\n",
    "i=10\n",
    "while i>0:\n",
    "    print(i)\n",
    "    i=i-1"
   ]
  },
  {
   "cell_type": "code",
   "execution_count": null,
   "id": "a8662eb7-2c32-4419-8133-2e8c226bd132",
   "metadata": {},
   "outputs": [],
   "source": [
    "# 5. why and when to use while loop in python give a detailed description and example. \n",
    "\n",
    "#answer : When should you use a while loop?\n",
    "#A \"While\" Loop is used to repeat a specific block of code an unknown number of times, until a condition is met. \n",
    "#For example, if we want to ask a user for a number between 1 and 10,\n",
    "#we don't know how many times the user may enter a larger number, so we keep asking \"while the number is not between 1 and 10"
   ]
  },
  {
   "cell_type": "code",
   "execution_count": 1,
   "id": "46567208-7832-4db9-9eb0-02dbf364e08e",
   "metadata": {},
   "outputs": [
    {
     "name": "stdin",
     "output_type": "stream",
     "text": [
      "enter your number 2\n"
     ]
    },
    {
     "name": "stdout",
     "output_type": "stream",
     "text": [
      "2 * 1 = 2\n",
      "2 * 2 = 4\n",
      "2 * 3 = 6\n",
      "2 * 4 = 8\n",
      "2 * 5 = 10\n",
      "2 * 6 = 12\n",
      "2 * 7 = 14\n",
      "2 * 8 = 16\n",
      "2 * 9 = 18\n",
      "2 * 10 = 20\n",
      "2 * 11 = 22\n",
      "2 * 12 = 24\n",
      "2 * 13 = 26\n",
      "2 * 14 = 28\n",
      "2 * 15 = 30\n",
      "2 * 16 = 32\n",
      "2 * 17 = 34\n",
      "2 * 18 = 36\n",
      "2 * 19 = 38\n",
      "2 * 20 = 40\n"
     ]
    }
   ],
   "source": [
    "#while loop example\n",
    "n = int(input(\"enter your number\"))\n",
    "i=1\n",
    "\n",
    "while i <=20 :\n",
    "    result = n *i\n",
    "    print(n,\"*\",i,\"=\",result)\n",
    "    i= i+1"
   ]
  },
  {
   "cell_type": "code",
   "execution_count": null,
   "id": "3ff54e06-65f1-4234-8363-d77d07a8c34a",
   "metadata": {},
   "outputs": [],
   "source": [
    "i=1\n",
    "while i<=5:\n",
    "    j=1\n",
    "    while j<=i:\n",
    "        print(\"*\")\n",
    "        j=j+1\n",
    "    print()\n",
    "    i=i+1"
   ]
  },
  {
   "cell_type": "code",
   "execution_count": null,
   "id": "d41d3a77-c3f4-4c48-88df-322fd775f3ca",
   "metadata": {},
   "outputs": [],
   "source": [
    "# the same code is running in the new sheet but not on this one. some error in lab "
   ]
  },
  {
   "cell_type": "code",
   "execution_count": null,
   "id": "fe3ab219-6cda-45b5-b397-63e2c7bc8762",
   "metadata": {},
   "outputs": [],
   "source": []
  },
  {
   "cell_type": "code",
   "execution_count": null,
   "id": "0b780f47-d6ad-4eda-b92d-8da912c63a69",
   "metadata": {},
   "outputs": [],
   "source": []
  }
 ],
 "metadata": {
  "kernelspec": {
   "display_name": "Python 3 (ipykernel)",
   "language": "python",
   "name": "python3"
  },
  "language_info": {
   "codemirror_mode": {
    "name": "ipython",
    "version": 3
   },
   "file_extension": ".py",
   "mimetype": "text/x-python",
   "name": "python",
   "nbconvert_exporter": "python",
   "pygments_lexer": "ipython3",
   "version": "3.10.8"
  }
 },
 "nbformat": 4,
 "nbformat_minor": 5
}
