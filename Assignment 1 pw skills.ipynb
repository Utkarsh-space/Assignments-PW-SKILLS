{
 "cells": [
  {
   "cell_type": "code",
   "execution_count": 1,
   "id": "2345bf2c-bf62-4d93-97ad-f79252023810",
   "metadata": {},
   "outputs": [],
   "source": [
    "# QUESTION : WHO DEVELOPED PYTHON PROGRAMMING LANGUAGE?\n",
    "\n",
    "# ANSWER : PYTHON LANGUAGE WAS DEVELOPED BY GUIDO VAN ROSSUM IN 1991"
   ]
  },
  {
   "cell_type": "code",
   "execution_count": 2,
   "id": "a17a0838-ae58-4c2b-9e68-cf5fdb15a1d3",
   "metadata": {},
   "outputs": [],
   "source": [
    "# QUESTION : WHICH TYPE OF PROGRAMMING PYTHON SUPPORT?\n",
    "\n",
    "# ANSWER : PYTHON SUPPORTS OBJECT ORIENTED AND STRUCTURED PROGRAMMING\n"
   ]
  },
  {
   "cell_type": "code",
   "execution_count": 3,
   "id": "738ca1b6-72ce-4896-9d33-f0af63da38b3",
   "metadata": {},
   "outputs": [],
   "source": [
    "# IS PYTHON CASE SENSITIVE WHEN DEALING WITH IDENTIFIERS ?\n",
    "\n",
    "# ANSWER : YES "
   ]
  },
  {
   "cell_type": "code",
   "execution_count": 4,
   "id": "549a350b-9ae8-4973-b5a4-9bd81013cdaa",
   "metadata": {},
   "outputs": [],
   "source": [
    "# QUESTION : WHAT IS THE CORRECT EXTENSION OF PYTHON FILE?\n",
    "\n",
    "# ANSWER : .pyd"
   ]
  },
  {
   "cell_type": "code",
   "execution_count": 5,
   "id": "74fe4f55-4839-45b9-8dd0-dfdb6ecff998",
   "metadata": {},
   "outputs": [],
   "source": [
    "# question : is python code compiled or interprested? \n",
    "\n",
    "# answer : interpreted"
   ]
  },
  {
   "cell_type": "code",
   "execution_count": 6,
   "id": "b28842df-f35a-4e9a-aac1-ff9509371ae0",
   "metadata": {},
   "outputs": [],
   "source": [
    "# question : Name a few blocks of code used to define in python language ? \n",
    "\n",
    "#answer : Function body, module are some of the examples of blocks of code used in pyhon\n",
    "\n"
   ]
  },
  {
   "cell_type": "code",
   "execution_count": 7,
   "id": "e54cec70-7f25-44ae-a0d9-ba0f6dc4b327",
   "metadata": {},
   "outputs": [],
   "source": [
    "# question : state a character used to give single line comments in python? \n",
    "# answer : # sign is used for the same\n"
   ]
  },
  {
   "cell_type": "code",
   "execution_count": 11,
   "id": "c4dc9c5a-f1bf-4438-a5fc-d300d418bdc0",
   "metadata": {},
   "outputs": [],
   "source": [
    "#question : mention functions which can help us to find the version of that we are currently working on?\n",
    "\n",
    "# answer : print(\"Python Version\")\n",
    "print(sys.version)\n",
    "\n"
   ]
  },
  {
   "cell_type": "code",
   "execution_count": 15,
   "id": "89c095ed-54f3-4dec-9c3d-547de02fd448",
   "metadata": {},
   "outputs": [
    {
     "name": "stdout",
     "output_type": "stream",
     "text": [
      "Python Version\n"
     ]
    },
    {
     "ename": "NameError",
     "evalue": "name 'sys' is not defined",
     "output_type": "error",
     "traceback": [
      "\u001b[0;31m---------------------------------------------------------------------------\u001b[0m",
      "\u001b[0;31mNameError\u001b[0m                                 Traceback (most recent call last)",
      "Cell \u001b[0;32mIn[15], line 2\u001b[0m\n\u001b[1;32m      1\u001b[0m \u001b[38;5;28mprint\u001b[39m(\u001b[38;5;124m\"\u001b[39m\u001b[38;5;124mPython Version\u001b[39m\u001b[38;5;124m\"\u001b[39m)\n\u001b[0;32m----> 2\u001b[0m \u001b[38;5;28mprint\u001b[39m(\u001b[43msys\u001b[49m\u001b[38;5;241m.\u001b[39mversion)\n",
      "\u001b[0;31mNameError\u001b[0m: name 'sys' is not defined"
     ]
    }
   ],
   "source": [
    "print(\"Python Version\")\n",
    "print(sys.version)"
   ]
  },
  {
   "cell_type": "code",
   "execution_count": 16,
   "id": "aa2afb53-40cf-4a27-ba39-2c0cf19581d8",
   "metadata": {},
   "outputs": [],
   "source": [
    "#Python supports the creation of anonymous functions at runtime, using a construct called \n",
    "\n",
    "#ANSWER : LAMBDA CONSTRUCT IS USED FOR THE SAME"
   ]
  },
  {
   "cell_type": "code",
   "execution_count": 19,
   "id": "108560fe-16fb-4079-aaa8-19a61f476771",
   "metadata": {},
   "outputs": [],
   "source": [
    "# QUESTION : What does pip stand for python?\n",
    "\n",
    "# ANSWER : preferred installer program"
   ]
  },
  {
   "cell_type": "code",
   "execution_count": 20,
   "id": "de420431-c626-408f-bd5e-5c9da25f5ae6",
   "metadata": {},
   "outputs": [],
   "source": [
    "# QUESTION : Mention a few built-in functions in python? \n",
    "# ANSWER   : PRINT() IF() ELIF() TYPE() INPUT()\n"
   ]
  },
  {
   "cell_type": "code",
   "execution_count": 21,
   "id": "fd9c701f-3379-4b90-86fa-78d49f4dbee4",
   "metadata": {},
   "outputs": [],
   "source": [
    "# QUESTION : What is the maximum possible length of an identifier in Python? \n",
    "# ANSWER : 79\n"
   ]
  },
  {
   "cell_type": "code",
   "execution_count": 23,
   "id": "92e2cdff-0ee2-4790-aef3-b5064c694aa5",
   "metadata": {},
   "outputs": [],
   "source": [
    "# QUESTION : What are the benefits of using Python? \n",
    "# ANSWER : 1. It's english like syntax makes it easy to understand \n",
    "\n",
    "# 2. Improves productivity because of its simplicity , the developer does not need to give more time understand the syntax \n",
    "# 3. it is has vast library support"
   ]
  },
  {
   "cell_type": "code",
   "execution_count": 24,
   "id": "ca2f5b08-fe77-45f3-9616-b1d2794dfff9",
   "metadata": {},
   "outputs": [],
   "source": [
    "# question : How is memory managed in Python? \n",
    "# answer : Memory management in Python involves a private heap containing all Python objects and data structures. \n",
    "# The management of this private heap is ensured internally by the Python memory manager."
   ]
  },
  {
   "cell_type": "code",
   "execution_count": 26,
   "id": "d3d50179-70ce-4b7f-ab29-2022d21c961b",
   "metadata": {},
   "outputs": [],
   "source": [
    "# question : how to install Python on Windows and set path variables?\n",
    "# answer : use this link to download the python https://www.python.org/downloads/windows/\n",
    "# for setting up path variables  : Right-clicking This PC and going to Properties.\n",
    "\n",
    "#Clicking on the Advanced system settings in the menu on the left.\n",
    "\n",
    "#Clicking on the Environment Variables button on the bottom right.\n",
    "\n",
    "#In the System variables section, selecting the Path variable and clicking on Edit. The next screen will show all the directories that are currently a part of the PATH variable.\n",
    "\n",
    "#Clicking on New and entering Python’s install directory."
   ]
  },
  {
   "cell_type": "code",
   "execution_count": 27,
   "id": "ecceebfc-c865-4a09-9257-851115ec34a0",
   "metadata": {},
   "outputs": [],
   "source": [
    "#question :  Is indentation required in python? \n",
    "# answer :  yes and it is very important\n"
   ]
  },
  {
   "cell_type": "code",
   "execution_count": null,
   "id": "faf11157-2065-4bb5-a663-41603c8e91c9",
   "metadata": {},
   "outputs": [],
   "source": []
  }
 ],
 "metadata": {
  "kernelspec": {
   "display_name": "Python 3 (ipykernel)",
   "language": "python",
   "name": "python3"
  },
  "language_info": {
   "codemirror_mode": {
    "name": "ipython",
    "version": 3
   },
   "file_extension": ".py",
   "mimetype": "text/x-python",
   "name": "python",
   "nbconvert_exporter": "python",
   "pygments_lexer": "ipython3",
   "version": "3.10.8"
  }
 },
 "nbformat": 4,
 "nbformat_minor": 5
}
